{
 "cells": [
  {
   "cell_type": "markdown",
   "id": "61dddf43",
   "metadata": {},
   "source": [
    "Análise de Sentimentos e Classificação de Textos em PLN"
   ]
  },
  {
   "cell_type": "markdown",
   "id": "250fa4d6",
   "metadata": {},
   "source": [
    "Exemplos de Roteiro"
   ]
  },
  {
   "cell_type": "markdown",
   "id": "5c2be171",
   "metadata": {},
   "source": [
    "Exemplo 01 - Análise de sentimentos NLTK"
   ]
  },
  {
   "cell_type": "code",
   "execution_count": 2,
   "id": "45e55d7f",
   "metadata": {},
   "outputs": [
    {
     "name": "stdout",
     "output_type": "stream",
     "text": [
      "Collecting nltk\n",
      "  Downloading nltk-3.9.1-py3-none-any.whl.metadata (2.9 kB)\n",
      "Collecting click (from nltk)\n",
      "  Downloading click-8.2.1-py3-none-any.whl.metadata (2.5 kB)\n",
      "Requirement already satisfied: joblib in /home/codespace/.local/lib/python3.12/site-packages (from nltk) (1.4.2)\n",
      "Collecting regex>=2021.8.3 (from nltk)\n",
      "  Downloading regex-2024.11.6-cp312-cp312-manylinux_2_17_x86_64.manylinux2014_x86_64.whl.metadata (40 kB)\n",
      "Collecting tqdm (from nltk)\n",
      "  Downloading tqdm-4.67.1-py3-none-any.whl.metadata (57 kB)\n",
      "Downloading nltk-3.9.1-py3-none-any.whl (1.5 MB)\n",
      "\u001b[2K   \u001b[90m━━━━━━━━━━━━━━━━━━━━━━━━━━━━━━━━━━━━━━━━\u001b[0m \u001b[32m1.5/1.5 MB\u001b[0m \u001b[31m34.2 MB/s\u001b[0m eta \u001b[36m0:00:00\u001b[0m\n",
      "\u001b[?25hDownloading regex-2024.11.6-cp312-cp312-manylinux_2_17_x86_64.manylinux2014_x86_64.whl (796 kB)\n",
      "\u001b[2K   \u001b[90m━━━━━━━━━━━━━━━━━━━━━━━━━━━━━━━━━━━━━━━━\u001b[0m \u001b[32m796.9/796.9 kB\u001b[0m \u001b[31m30.5 MB/s\u001b[0m eta \u001b[36m0:00:00\u001b[0m\n",
      "\u001b[?25hDownloading click-8.2.1-py3-none-any.whl (102 kB)\n",
      "Downloading tqdm-4.67.1-py3-none-any.whl (78 kB)\n",
      "Installing collected packages: tqdm, regex, click, nltk\n",
      "Successfully installed click-8.2.1 nltk-3.9.1 regex-2024.11.6 tqdm-4.67.1\n",
      "\n",
      "\u001b[1m[\u001b[0m\u001b[34;49mnotice\u001b[0m\u001b[1;39;49m]\u001b[0m\u001b[39;49m A new release of pip is available: \u001b[0m\u001b[31;49m25.0.1\u001b[0m\u001b[39;49m -> \u001b[0m\u001b[32;49m25.1.1\u001b[0m\n",
      "\u001b[1m[\u001b[0m\u001b[34;49mnotice\u001b[0m\u001b[1;39;49m]\u001b[0m\u001b[39;49m To update, run: \u001b[0m\u001b[32;49mpython3 -m pip install --upgrade pip\u001b[0m\n"
     ]
    },
    {
     "name": "stderr",
     "output_type": "stream",
     "text": [
      "[nltk_data] Downloading package vader_lexicon to\n",
      "[nltk_data]     /home/codespace/nltk_data...\n",
      "[nltk_data] Downloading package punkt to /home/codespace/nltk_data...\n",
      "[nltk_data]   Unzipping tokenizers/punkt.zip.\n"
     ]
    },
    {
     "data": {
      "text/plain": [
       "True"
      ]
     },
     "execution_count": 2,
     "metadata": {},
     "output_type": "execute_result"
    }
   ],
   "source": [
    "!pip install nltk\n",
    "\n",
    "#Importando bibliotecas\n",
    "\n",
    "import nltk\n",
    "from nltk.sentiment.vader import SentimentIntensityAnalyzer\n",
    "\n",
    "nltk.download('vader_lexicon')\n",
    "nltk.download('punkt')"
   ]
  },
  {
   "cell_type": "code",
   "execution_count": 3,
   "id": "b05bb211",
   "metadata": {},
   "outputs": [],
   "source": [
    "sid = SentimentIntensityAnalyzer()\n",
    "\n",
    "textos = [\n",
    "  \"Este filme é incrível! Eu adorei cada minuto.\",\n",
    "  \"Odiei este filme. Foi uma perda de tempo.\",\n",
    "  \"O filme foi ok, nada de especial.\",\n",
    "  \"Estou muito feliz com o produto, funciona perfeitamente!\",\n",
    "  \"Que serviço horrível! Nunca mais compro nessa loja.\"\n",
    "]\n"
   ]
  },
  {
   "cell_type": "code",
   "execution_count": 4,
   "id": "6b227a04",
   "metadata": {},
   "outputs": [
    {
     "name": "stdout",
     "output_type": "stream",
     "text": [
      "Texto: Este filme é incrível! Eu adorei cada minuto.\n",
      "Pontuaçao: {'neg': 0.0, 'neu': 1.0, 'pos': 0.0, 'compound': 0.0}\n",
      "Sentimento: Neutro\n",
      "\n",
      "\n",
      "Texto: Odiei este filme. Foi uma perda de tempo.\n",
      "Pontuaçao: {'neg': 0.0, 'neu': 1.0, 'pos': 0.0, 'compound': 0.0}\n",
      "Sentimento: Neutro\n",
      "\n",
      "\n",
      "Texto: O filme foi ok, nada de especial.\n",
      "Pontuaçao: {'neg': 0.0, 'neu': 0.694, 'pos': 0.306, 'compound': 0.296}\n",
      "Sentimento: Positivo\n",
      "\n",
      "\n",
      "Texto: Estou muito feliz com o produto, funciona perfeitamente!\n",
      "Pontuaçao: {'neg': 0.0, 'neu': 1.0, 'pos': 0.0, 'compound': 0.0}\n",
      "Sentimento: Neutro\n",
      "\n",
      "\n",
      "Texto: Que serviço horrível! Nunca mais compro nessa loja.\n",
      "Pontuaçao: {'neg': 0.0, 'neu': 1.0, 'pos': 0.0, 'compound': 0.0}\n",
      "Sentimento: Neutro\n",
      "\n",
      "\n"
     ]
    }
   ],
   "source": [
    "for texto in textos:\n",
    "  print(f\"Texto: {texto}\")\n",
    "  ss = sid.polarity_scores(texto)\n",
    "  print(f\"Pontuaçao: {ss}\")\n",
    "  if ss['compound'] >= 0.05:\n",
    "    print(\"Sentimento: Positivo\")\n",
    "  elif ss['compound' ] <= -0.05:\n",
    "    print(\"Sentimento: Negativo\")\n",
    "  else:\n",
    "    print(\"Sentimento: Neutro\")\n",
    "  print(\"\\n\")"
   ]
  },
  {
   "cell_type": "markdown",
   "id": "f56de00d",
   "metadata": {},
   "source": [
    "Exemplo 02 - Análise de sentimentos de avaliações de filmes com Naives Bayes"
   ]
  },
  {
   "cell_type": "code",
   "execution_count": 5,
   "id": "8bfa2822",
   "metadata": {},
   "outputs": [],
   "source": [
    "import numpy as np\n",
    "\n",
    "def contar_palavras(avaliacoes, sentimento):\n",
    "  \"\"\"Conta a frequência de cada palavra em avaliações de um dado sentimento.\"\"\"\n",
    "  contagem = {}\n",
    "  for avaliacao, sent in avaliacoes:\n",
    "    if sent == sentimento:\n",
    "      for palavra in avaliacao.lower().split():\n",
    "        if palavra in contagem:\n",
    "          contagem[palavra] += 1\n",
    "        else:\n",
    "          contagem[palavra] = 1\n",
    "\n",
    "  return contagem\n",
    "\n",
    "def calcular_probabilidade_sentimento(avaliacoes, sentimento):\n",
    "  \"\"\"Calcula a probabilidade de uma avaliação ser de um dado sentimento.\"\"\"\n",
    "  total_avaliacoes = len(avaliacoes)\n",
    "  contagem_sentimento = sum(1 for _, sent in avaliacoes if sent == sentimento)\n",
    "  return contagem_sentimento / total_avaliacoes\n",
    "\n",
    "def calcular_probabilidade_palavra_dado_sentimento(palavra, contagem_palavras, total_palavras_sentimento, total_palavras_vocabulario, alpha=1):\n",
    "  \"\"\"Calcula a probabilidade de uma palavra aparecer dado um sentimento (com suavizacao Laplace).\"\"\"\n",
    "  contagem_palavra = contagem_palavras.get(palavra, 0)\n",
    "  return (contagem_palavra + alpha) / (total_palavras_sentimento + alpha * total_palavras_vocabulario)\n",
    "     "
   ]
  },
  {
   "cell_type": "code",
   "execution_count": 6,
   "id": "948fea73",
   "metadata": {},
   "outputs": [],
   "source": [
    "def classificar_avaliacao(avaliacao, avaliacoes):\n",
    "  \"\"\"Classifica o sentimento de uma nova avaliaçao usando Naive Bayes.\"\"\"\n",
    "\n",
    "  sentimentos = [\"Positivo\", \"Negativo\"]\n",
    "  probabilidades_sentimento = {}\n",
    "\n",
    "  # Calcular probabilidades a priori dos sentimentos\n",
    "  probabilidades_sentimento[\"Positivo\"] = calcular_probabilidade_sentimento(avaliacoes, \"Positivo\")\n",
    "  probabilidades_sentimento[\"Negativo\"] = calcular_probabilidade_sentimento(avaliacoes, \"Negativo\")\n",
    "\n",
    "  # Contar palavras em cada sentimento\n",
    "  contagem_palavras_positivo = contar_palavras(avaliacoes, \"Positivo\")\n",
    "  contagem_palavras_negativo = contar_palavras(avaliacoes, \"Negativo\")\n",
    "\n",
    "  # Calcular total de palavras em cada sentimento\n",
    "  total_palavras_positivo = sum(contagem_palavras_positivo.values())\n",
    "  total_palavras_negativo = sum(contagem_palavras_negativo.values())\n",
    "\n",
    "  # Calcular tamanho do vocabulário\n",
    "  vocabulario = set()\n",
    "  for avaliacao, _ in avaliacoes:\n",
    "    for palavra in avaliacao.lower().split():\n",
    "        vocabulario.add(palavra)\n",
    "  total_palavras_vocabulario = len(vocabulario)\n",
    "\n",
    "  # Calcular probabilidades para cada sentimento\n",
    "  for sentimento in sentimentos:\n",
    "      probabilidade_total = probabilidades_sentimento[sentimento]\n",
    "      contagem_palavras_sentimento = contagem_palavras_positivo if sentimento == \"Positivo\" else contagem_palavras_negativo\n",
    "      total_palavras_sentimento = total_palavras_positivo if sentimento == \"Positivo\" else total_palavras_negativo\n",
    "\n",
    "      for palavra in avaliacao.lower().split():\n",
    "          probabilidade_palavra = calcular_probabilidade_palavra_dado_sentimento(\n",
    "            palavra, contagem_palavras_sentimento, total_palavras_sentimento, total_palavras_vocabulario\n",
    "        )\n",
    "          probabilidade_total *= probabilidade_palavra\n",
    "      probabilidades_sentimento[sentimento] = probabilidade_total\n",
    "\n",
    "  # Classificar com base na maior probabilidade\n",
    "  melhor_sentimento = max(probabilidades_sentimento, key=probabilidades_sentimento.get)\n",
    "  return melhor_sentimento"
   ]
  },
  {
   "cell_type": "code",
   "execution_count": 7,
   "id": "7938a0e3",
   "metadata": {},
   "outputs": [],
   "source": [
    "avaliacoes = [\n",
    "    (\"Filme incrível! Adorei a atuação.\", \"Positivo\"),\n",
    "    (\"Roteiro fraco, não recomendo.\", \"Negativo\"),\n",
    "    (\"Atuação boa, mas filme longo.\", \"Positivo\"),\n",
    "    (\"Péssimo! Perdi meu tempo.\", \"Negativo\"),\n",
    "]"
   ]
  },
  {
   "cell_type": "code",
   "execution_count": 8,
   "id": "0c2f0b07",
   "metadata": {},
   "outputs": [
    {
     "name": "stdout",
     "output_type": "stream",
     "text": [
      "A avaliação 'Ótimo' foi classificada como: Negativo\n"
     ]
    }
   ],
   "source": [
    "nova_avaliacao = input(\"o que voce achou do filme 101 Dalmatas? \")\n",
    "\n",
    "sentimento = classificar_avaliacao(nova_avaliacao, avaliacoes)\n",
    "print(f\"A avaliação '{nova_avaliacao}' foi classificada como: {sentimento}\")"
   ]
  },
  {
   "cell_type": "code",
   "execution_count": 9,
   "id": "4edb3b56",
   "metadata": {},
   "outputs": [],
   "source": [
    "avaliacoes = [\n",
    "    (\"Filme incrível! Adorei a atuação, roteiro e direção.\", \"Positivo\"),\n",
    "    (\"Roteiro fraco, atuação ruim, não recomendo. Perda de tempo.\", \"Negativo\"),\n",
    "    (\"Atuação boa, mas filme um pouco longo e arrastado.\", \"Positivo\"),\n",
    "    (\"Péssimo! Perdi meu tempo, dinheiro e paciência. Horrível.\", \"Negativo\"),\n",
    "    (\"Amei! Elenco maravilhoso, fotografia impecável. Recomendo muito!\", \"Positivo\"),\n",
    "    (\"Chato, previsível e sem graça. Saí no meio do filme.\", \"Negativo\"),\n",
    "    (\"Uma obra-prima! Roteiro inteligente, atuações memoráveis.\", \"Positivo\"),\n",
    "    (\"Cansativo, atuações forçadas, final decepcionante.\", \"Negativo\"),\n",
    "    (\"Divertido e emocionante! Ótimo para assistir com a família.\", \"Positivo\"),\n",
    "    (\"Clichê, sem originalidade, diálogos fracos. Não vale a pena.\", \"Negativo\"),\n",
    "    (\"Surpreendente e envolvente! Me prendeu do início ao fim.\", \"Positivo\"),\n",
    "    (\"Confuso, mal dirigido, edição amadora. Um desastre.\", \"Negativo\"),\n",
    "    (\"Atuação excelente, história cativante, trilha sonora perfeita.\", \"Positivo\"),\n",
    "    (\"Atuações medianas, história arrastada, trilha sonora irritante.\", \"Negativo\"),\n",
    "    (\"Roteiro bem construído, diálogos afiados, direção impecável.\", \"Positivo\"),\n",
    "    (\"Roteiro fraco, diálogos bobos, direção perdida.\", \"Negativo\"),\n",
    "    (\"Uma experiência cinematográfica única! Recomendo a todos os amantes do cinema.\", \"Positivo\"),\n",
    "    (\"Um filme esquecível, sem emoção e sem impacto.\", \"Negativo\"),\n",
    "    (\"Comovente e inspirador! Me fez refletir sobre a vida.\", \"Positivo\"),\n",
    "    (\"Decepcionante e frustrante! Não recomendo nem para passar o tempo.\", \"Negativo\"),\n",
    "    (\"Ótimo, gostei muito\",'Positivo')\n",
    "]"
   ]
  }
 ],
 "metadata": {
  "kernelspec": {
   "display_name": "Python 3",
   "language": "python",
   "name": "python3"
  },
  "language_info": {
   "codemirror_mode": {
    "name": "ipython",
    "version": 3
   },
   "file_extension": ".py",
   "mimetype": "text/x-python",
   "name": "python",
   "nbconvert_exporter": "python",
   "pygments_lexer": "ipython3",
   "version": "3.12.1"
  }
 },
 "nbformat": 4,
 "nbformat_minor": 5
}
