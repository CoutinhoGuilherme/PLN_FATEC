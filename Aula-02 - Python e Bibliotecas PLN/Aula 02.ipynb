{
 "cells": [
  {
   "cell_type": "markdown",
   "id": "41a6aa6e",
   "metadata": {},
   "source": [
    "1 - Sintaxe Básica e Estrutura do Código em Python"
   ]
  },
  {
   "cell_type": "code",
   "execution_count": null,
   "id": "fbe1f788",
   "metadata": {},
   "outputs": [],
   "source": [
    "print(\"Codiguin\")\n",
    "\n",
    "print('Isso rodará')"
   ]
  },
  {
   "cell_type": "markdown",
   "id": "f9466578",
   "metadata": {},
   "source": [
    "2 - Atribuição de variáveis."
   ]
  },
  {
   "cell_type": "code",
   "execution_count": null,
   "id": "9f8f3c6c",
   "metadata": {},
   "outputs": [],
   "source": [
    "carros = 100\n",
    "espacoEmUmCarro = 4.0\n",
    "motoristas = 30\n",
    "passageiros = 90\n",
    "carrosNaoDirigidos = carros - motoristas\n",
    "carrosDirigidos = motoristas\n",
    "capacidadeCarona = carrosDirigidos * espacoEmUmCarro\n",
    "mediaPassageirosPorCarro = passageiros / carrosDirigidos\n",
    "\n",
    "print(\"Há\", carros, \"carros disponíveis.\")\n",
    "print(\"Há apenas\", motoristas, \"motoristas disponíveis.\")\n",
    "print(\"Haverá\", carrosNaoDirigidos, \"carros vazios hoje.\")\n",
    "print(\"Podemos transportar\", capacidadeCarona, \"pessoas hoje.\")\n",
    "print(\"Temos\", passageiros, \"passageiros para a carona hoje.\")\n",
    "print(\"Precisamos colocar cerca de\", mediaPassageirosPorCarro, \"em cada carro.\")\n",
    "print(10/5)"
   ]
  },
  {
   "cell_type": "markdown",
   "id": "3d16c52c",
   "metadata": {},
   "source": [
    "3 - Entrada e saída de dados"
   ]
  },
  {
   "cell_type": "code",
   "execution_count": null,
   "id": "bad74c35",
   "metadata": {},
   "outputs": [],
   "source": [
    "print(\"Quantos anos você tem?\", end=' ')\n",
    "idade = input()\n",
    "\n",
    "print(\"Qual a sua altura (cm)?\", end=' ')\n",
    "altura = input()\n",
    "\n",
    "print(\"Quanto você pesa?\", end=' ')\n",
    "peso = input()\n",
    "\n",
    "print(f\"Então, você tem {idade} anos, {altura} cm de altura e pesa {peso}.\")"
   ]
  },
  {
   "cell_type": "markdown",
   "id": "831f737f",
   "metadata": {},
   "source": [
    "4 - Operadores"
   ]
  },
  {
   "cell_type": "code",
   "execution_count": null,
   "id": "603ef7b4",
   "metadata": {},
   "outputs": [],
   "source": [
    "print(\"Agora vou contar minhas galinhas:\")\n",
    "print(\"Galinhas\", 25 + 30 / 6)\n",
    "print(\"Galos\", 100.0 - 25 * 3 % 4)\n",
    "\n",
    "print(\"Agora vou contar os ovos:\")\n",
    "print(3 + 2 + 1 - 5 + 4 % 2 - 1 / 4 + 6)\n",
    "\n",
    "print(\"É verdade que 3 + 2 < 5 - 7?\")\n",
    "print(3 + 2 < 5 - 7)\n",
    "\n",
    "print(\"Quanto é 3 + 2?\", 3 + 2)\n",
    "print(\"Quanto é 5 - 7?\", 5 - 7)\n",
    "print(\"Ah, é por isso que é Falso.\")\n",
    "\n",
    "print(\"Que tal mais algumas comparações?\")\n",
    "\n",
    "print(\"É maior?\", 5 > -2)\n",
    "print(\"É maior ou igual?\", 5 >= -2)\n",
    "print(\"É menor ou igual?\", 5 <= -2)"
   ]
  },
  {
   "cell_type": "markdown",
   "id": "2692c1c3",
   "metadata": {},
   "source": [
    "5 - Estruturas Condicionais"
   ]
  },
  {
   "cell_type": "code",
   "execution_count": null,
   "id": "fdc735c4",
   "metadata": {},
   "outputs": [],
   "source": [
    "pessoas = 30\n",
    "carros = 40\n",
    "caminhoes = 15\n",
    "\n",
    "if carros > pessoas:\n",
    "    print(\"Devemos pegar os carros.\")\n",
    "elif carros < pessoas:\n",
    "    print(\"Não devemos pegar os carros.\")\n",
    "else:\n",
    "    print(\"Não podemos decidir.\")\n",
    "\n",
    "if caminhoes > carros:\n",
    "    print(\"São caminhões demais.\")\n",
    "elif caminhoes < carros:\n",
    "    print(\"Talvez possamos pegar os caminhões.\")\n",
    "else:\n",
    "    print(\"Ainda não podemos decidir.\")\n",
    "\n",
    "if pessoas > caminhoes:\n",
    "    print(\"Certo, vamos apenas pegar os caminhões.\")\n",
    "else:\n",
    "    print(\"Tudo bem, então vamos ficar em casa.\")"
   ]
  },
  {
   "cell_type": "markdown",
   "id": "e14a5c9c",
   "metadata": {},
   "source": [
    "6 - Laços de Repetição"
   ]
  },
  {
   "cell_type": "code",
   "execution_count": null,
   "id": "3df1c879",
   "metadata": {},
   "outputs": [],
   "source": [
    "i = 0\n",
    "numeros = []\n",
    "\n",
    "while i < 6:\n",
    "    print(f\"No topo, i é {i}\")\n",
    "    numeros.append(i)\n",
    "\n",
    "    i = i + 1\n",
    "    print(\"Números agora:\", numeros)\n",
    "    print(f\"Na parte inferior, i é {i}\")\n",
    "\n",
    "print(\"Os números:\")\n",
    "\n",
    "for num in numeros:\n",
    "    print(num)"
   ]
  },
  {
   "cell_type": "markdown",
   "id": "6257d59a",
   "metadata": {},
   "source": [
    "7 - Listas e Strings"
   ]
  },
  {
   "cell_type": "code",
   "execution_count": null,
   "id": "8b023ef8",
   "metadata": {},
   "outputs": [],
   "source": [
    "contagem = [1, 2, 3, 4, 5]\n",
    "frutas = ['maçãs', 'laranjas', 'peras', 'damascos']\n",
    "troco = [1, 'centavos', 2, 'dimes', 3, 'quarters']\n",
    "\n",
    "for numero in contagem:\n",
    "    print(f\"Este é o número {numero}\")\n",
    "\n",
    "for fruta in frutas:\n",
    "    print(f\"Uma fruta do tipo: {fruta}\")\n",
    "\n",
    "for i in troco:\n",
    "    print(f\"Eu tenho {i}\")\n",
    "\n",
    "elementos = []\n",
    "\n",
    "for i in range(0, 6):\n",
    "    print(f\"Adicionando {i} à lista.\")\n",
    "    elementos.append(i)\n",
    "\n",
    "for i in elementos:\n",
    "    print(f\"O elemento era: {i}\")"
   ]
  },
  {
   "cell_type": "markdown",
   "id": "97e0bdcb",
   "metadata": {},
   "source": [
    "Exercícios"
   ]
  },
  {
   "cell_type": "markdown",
   "id": "b624c870",
   "metadata": {},
   "source": [
    "Exercício 1"
   ]
  },
  {
   "cell_type": "code",
   "execution_count": null,
   "id": "861a809c",
   "metadata": {},
   "outputs": [],
   "source": [
    "comprimento = float(input(\"Digite o comprimento da caixa: \"))\n",
    "largura = float(input(\"Digite a largura da caixa: \"))\n",
    "altura = float(input(\"Digite a altura da caixa: \"))\n",
    "\n",
    "volume = comprimento * largura * altura\n",
    "print(f\"O volume da caixa é: {volume}\")"
   ]
  },
  {
   "cell_type": "markdown",
   "id": "141a373f",
   "metadata": {},
   "source": [
    "Exercício 2"
   ]
  },
  {
   "cell_type": "code",
   "execution_count": null,
   "id": "a2e7dfbc",
   "metadata": {},
   "outputs": [],
   "source": [
    "texto = input(\"Digite um texto: \")\n",
    "palavras = texto.split()\n",
    "print(f\"O texto contém {len(palavras)} palavras.\")"
   ]
  },
  {
   "cell_type": "markdown",
   "id": "86881604",
   "metadata": {},
   "source": [
    "Exercício 3"
   ]
  },
  {
   "cell_type": "code",
   "execution_count": null,
   "id": "b580aa3b",
   "metadata": {},
   "outputs": [],
   "source": [
    "texto_original = input(\"Digite um texto: \")\n",
    "palavra_busca = input(\"Digite a palavra que deseja substituir: \")\n",
    "palavra_substituir = input(\"Digite a nova palavra: \")\n",
    "\n",
    "texto_modificado = texto_original.replace(palavra_busca, palavra_substituir)\n",
    "print(\"Texto modificado:\", texto_modificado)"
   ]
  },
  {
   "cell_type": "markdown",
   "id": "e1893d17",
   "metadata": {},
   "source": [
    "Exercício 4"
   ]
  },
  {
   "cell_type": "code",
   "execution_count": null,
   "id": "4e4507c6",
   "metadata": {},
   "outputs": [],
   "source": [
    "texto = input(\"Digite um texto com várias frases separadas por ponto: \")\n",
    "frases = texto.split('.')\n",
    "print(\"Frases separadas:\")\n",
    "for frase in frases:\n",
    "    if frase.strip():\n",
    "        print(frase.strip())"
   ]
  },
  {
   "cell_type": "markdown",
   "id": "5a9fca04",
   "metadata": {},
   "source": [
    "Exercício 5"
   ]
  },
  {
   "cell_type": "code",
   "execution_count": null,
   "id": "a2537949",
   "metadata": {},
   "outputs": [],
   "source": [
    "a = int(input(\"Digite o primeiro número: \"))\n",
    "b = int(input(\"Digite o segundo número: \"))\n",
    "c = int(input(\"Digite o terceiro número: \"))\n",
    "\n",
    "numeros = [a, b, c]\n",
    "numeros.sort()\n",
    "print(\"Números em ordem crescente:\", numeros)"
   ]
  },
  {
   "cell_type": "markdown",
   "id": "2e9ea36a",
   "metadata": {},
   "source": [
    "Exercício 6"
   ]
  },
  {
   "cell_type": "code",
   "execution_count": null,
   "id": "5e65a007",
   "metadata": {},
   "outputs": [],
   "source": [
    "valores = []\n",
    "for i in range(4):\n",
    "    valores.append(int(input(f\"Digite o {i+1}º valor: \")))\n",
    "\n",
    "print(\"Valores divisíveis por 2 e 3:\")\n",
    "for valor in valores:\n",
    "    if valor % 2 == 0 and valor % 3 == 0:\n",
    "        print(valor)"
   ]
  },
  {
   "cell_type": "markdown",
   "id": "e7ac5b88",
   "metadata": {},
   "source": [
    "Exercício 7"
   ]
  },
  {
   "cell_type": "code",
   "execution_count": null,
   "id": "0273866c",
   "metadata": {},
   "outputs": [],
   "source": [
    "print(\"Números divisíveis por 4 e menores que 200:\")\n",
    "for i in range(4, 200, 4):\n",
    "    print(i)"
   ]
  }
 ],
 "metadata": {
  "kernelspec": {
   "display_name": "Python 3",
   "language": "python",
   "name": "python3"
  },
  "language_info": {
   "codemirror_mode": {
    "name": "ipython",
    "version": 3
   },
   "file_extension": ".py",
   "mimetype": "text/x-python",
   "name": "python",
   "nbconvert_exporter": "python",
   "pygments_lexer": "ipython3",
   "version": "3.12.1"
  }
 },
 "nbformat": 4,
 "nbformat_minor": 5
}
