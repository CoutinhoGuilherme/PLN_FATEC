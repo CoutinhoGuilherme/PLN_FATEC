{
 "cells": [
  {
   "cell_type": "markdown",
   "id": "41a6aa6e",
   "metadata": {},
   "source": [
    "1 - Sintaxe Básica e Estrutura do Código em Python"
   ]
  },
  {
   "cell_type": "code",
   "execution_count": 1,
   "id": "fbe1f788",
   "metadata": {},
   "outputs": [
    {
     "name": "stdout",
     "output_type": "stream",
     "text": [
      "Codiguin\n",
      "Isso rodará\n"
     ]
    }
   ],
   "source": [
    "print(\"Codiguin\")\n",
    "\n",
    "print('Isso rodará')"
   ]
  },
  {
   "cell_type": "markdown",
   "id": "f9466578",
   "metadata": {},
   "source": [
    "2 - Atribuição de variáveis."
   ]
  },
  {
   "cell_type": "code",
   "execution_count": 2,
   "id": "9f8f3c6c",
   "metadata": {},
   "outputs": [
    {
     "name": "stdout",
     "output_type": "stream",
     "text": [
      "Há 100 carros disponíveis.\n",
      "Há apenas 30 motoristas disponíveis.\n",
      "Haverá 70 carros vazios hoje.\n",
      "Podemos transportar 120.0 pessoas hoje.\n",
      "Temos 90 passageiros para a carona hoje.\n",
      "Precisamos colocar cerca de 3.0 em cada carro.\n",
      "2.0\n"
     ]
    }
   ],
   "source": [
    "carros = 100\n",
    "espacoEmUmCarro = 4.0\n",
    "motoristas = 30\n",
    "passageiros = 90\n",
    "carrosNaoDirigidos = carros - motoristas\n",
    "carrosDirigidos = motoristas\n",
    "capacidadeCarona = carrosDirigidos * espacoEmUmCarro\n",
    "mediaPassageirosPorCarro = passageiros / carrosDirigidos\n",
    "\n",
    "print(\"Há\", carros, \"carros disponíveis.\")\n",
    "print(\"Há apenas\", motoristas, \"motoristas disponíveis.\")\n",
    "print(\"Haverá\", carrosNaoDirigidos, \"carros vazios hoje.\")\n",
    "print(\"Podemos transportar\", capacidadeCarona, \"pessoas hoje.\")\n",
    "print(\"Temos\", passageiros, \"passageiros para a carona hoje.\")\n",
    "print(\"Precisamos colocar cerca de\", mediaPassageirosPorCarro, \"em cada carro.\")\n",
    "print(10/5)"
   ]
  },
  {
   "cell_type": "markdown",
   "id": "3d16c52c",
   "metadata": {},
   "source": [
    "3 - Entrada e saída de dados"
   ]
  },
  {
   "cell_type": "code",
   "execution_count": 6,
   "id": "bad74c35",
   "metadata": {},
   "outputs": [
    {
     "name": "stdout",
     "output_type": "stream",
     "text": [
      "Quantos anos você tem? Qual a sua altura (cm)? Quanto você pesa? Então, você tem 29 anos, 189 cm de altura e pesa 80.\n"
     ]
    }
   ],
   "source": [
    "print(\"Quantos anos você tem?\", end=' ')\n",
    "idade = input()\n",
    "\n",
    "print(\"Qual a sua altura (cm)?\", end=' ')\n",
    "altura = input()\n",
    "\n",
    "print(\"Quanto você pesa?\", end=' ')\n",
    "peso = input()\n",
    "\n",
    "print(f\"Então, você tem {idade} anos, {altura} cm de altura e pesa {peso}.\")"
   ]
  },
  {
   "cell_type": "markdown",
   "id": "831f737f",
   "metadata": {},
   "source": [
    "4 - Operadores"
   ]
  },
  {
   "cell_type": "code",
   "execution_count": 7,
   "id": "603ef7b4",
   "metadata": {},
   "outputs": [
    {
     "name": "stdout",
     "output_type": "stream",
     "text": [
      "Agora vou contar minhas galinhas:\n",
      "Galinhas 30.0\n",
      "Galos 97.0\n",
      "Agora vou contar os ovos:\n",
      "6.75\n",
      "É verdade que 3 + 2 < 5 - 7?\n",
      "False\n",
      "Quanto é 3 + 2? 5\n",
      "Quanto é 5 - 7? -2\n",
      "Ah, é por isso que é Falso.\n",
      "Que tal mais algumas comparações?\n",
      "É maior? True\n",
      "É maior ou igual? True\n",
      "É menor ou igual? False\n"
     ]
    }
   ],
   "source": [
    "print(\"Agora vou contar minhas galinhas:\")\n",
    "print(\"Galinhas\", 25 + 30 / 6)\n",
    "print(\"Galos\", 100.0 - 25 * 3 % 4)\n",
    "\n",
    "print(\"Agora vou contar os ovos:\")\n",
    "print(3 + 2 + 1 - 5 + 4 % 2 - 1 / 4 + 6)\n",
    "\n",
    "print(\"É verdade que 3 + 2 < 5 - 7?\")\n",
    "print(3 + 2 < 5 - 7)\n",
    "\n",
    "print(\"Quanto é 3 + 2?\", 3 + 2)\n",
    "print(\"Quanto é 5 - 7?\", 5 - 7)\n",
    "print(\"Ah, é por isso que é Falso.\")\n",
    "\n",
    "print(\"Que tal mais algumas comparações?\")\n",
    "\n",
    "print(\"É maior?\", 5 > -2)\n",
    "print(\"É maior ou igual?\", 5 >= -2)\n",
    "print(\"É menor ou igual?\", 5 <= -2)"
   ]
  },
  {
   "cell_type": "markdown",
   "id": "2692c1c3",
   "metadata": {},
   "source": [
    "5 - Estruturas Condicionais"
   ]
  },
  {
   "cell_type": "code",
   "execution_count": 8,
   "id": "fdc735c4",
   "metadata": {},
   "outputs": [
    {
     "name": "stdout",
     "output_type": "stream",
     "text": [
      "Devemos pegar os carros.\n",
      "Talvez possamos pegar os caminhões.\n",
      "Certo, vamos apenas pegar os caminhões.\n"
     ]
    }
   ],
   "source": [
    "pessoas = 30\n",
    "carros = 40\n",
    "caminhoes = 15\n",
    "\n",
    "if carros > pessoas:\n",
    "    print(\"Devemos pegar os carros.\")\n",
    "elif carros < pessoas:\n",
    "    print(\"Não devemos pegar os carros.\")\n",
    "else:\n",
    "    print(\"Não podemos decidir.\")\n",
    "\n",
    "if caminhoes > carros:\n",
    "    print(\"São caminhões demais.\")\n",
    "elif caminhoes < carros:\n",
    "    print(\"Talvez possamos pegar os caminhões.\")\n",
    "else:\n",
    "    print(\"Ainda não podemos decidir.\")\n",
    "\n",
    "if pessoas > caminhoes:\n",
    "    print(\"Certo, vamos apenas pegar os caminhões.\")\n",
    "else:\n",
    "    print(\"Tudo bem, então vamos ficar em casa.\")"
   ]
  },
  {
   "cell_type": "markdown",
   "id": "e14a5c9c",
   "metadata": {},
   "source": [
    "6 - Laços de Repetição"
   ]
  },
  {
   "cell_type": "code",
   "execution_count": 9,
   "id": "3df1c879",
   "metadata": {},
   "outputs": [
    {
     "name": "stdout",
     "output_type": "stream",
     "text": [
      "No topo, i é 0\n",
      "Números agora: [0]\n",
      "Na parte inferior, i é 1\n",
      "No topo, i é 1\n",
      "Números agora: [0, 1]\n",
      "Na parte inferior, i é 2\n",
      "No topo, i é 2\n",
      "Números agora: [0, 1, 2]\n",
      "Na parte inferior, i é 3\n",
      "No topo, i é 3\n",
      "Números agora: [0, 1, 2, 3]\n",
      "Na parte inferior, i é 4\n",
      "No topo, i é 4\n",
      "Números agora: [0, 1, 2, 3, 4]\n",
      "Na parte inferior, i é 5\n",
      "No topo, i é 5\n",
      "Números agora: [0, 1, 2, 3, 4, 5]\n",
      "Na parte inferior, i é 6\n",
      "Os números:\n",
      "0\n",
      "1\n",
      "2\n",
      "3\n",
      "4\n",
      "5\n"
     ]
    }
   ],
   "source": [
    "i = 0\n",
    "numeros = []\n",
    "\n",
    "while i < 6:\n",
    "    print(f\"No topo, i é {i}\")\n",
    "    numeros.append(i)\n",
    "\n",
    "    i = i + 1\n",
    "    print(\"Números agora:\", numeros)\n",
    "    print(f\"Na parte inferior, i é {i}\")\n",
    "\n",
    "print(\"Os números:\")\n",
    "\n",
    "for num in numeros:\n",
    "    print(num)"
   ]
  },
  {
   "cell_type": "markdown",
   "id": "6257d59a",
   "metadata": {},
   "source": [
    "7 - Listas e Strings"
   ]
  },
  {
   "cell_type": "code",
   "execution_count": 10,
   "id": "8b023ef8",
   "metadata": {},
   "outputs": [
    {
     "name": "stdout",
     "output_type": "stream",
     "text": [
      "Este é o número 1\n",
      "Este é o número 2\n",
      "Este é o número 3\n",
      "Este é o número 4\n",
      "Este é o número 5\n",
      "Uma fruta do tipo: maçãs\n",
      "Uma fruta do tipo: laranjas\n",
      "Uma fruta do tipo: peras\n",
      "Uma fruta do tipo: damascos\n",
      "Eu tenho 1\n",
      "Eu tenho centavos\n",
      "Eu tenho 2\n",
      "Eu tenho dimes\n",
      "Eu tenho 3\n",
      "Eu tenho quarters\n",
      "Adicionando 0 à lista.\n",
      "Adicionando 1 à lista.\n",
      "Adicionando 2 à lista.\n",
      "Adicionando 3 à lista.\n",
      "Adicionando 4 à lista.\n",
      "Adicionando 5 à lista.\n",
      "O elemento era: 0\n",
      "O elemento era: 1\n",
      "O elemento era: 2\n",
      "O elemento era: 3\n",
      "O elemento era: 4\n",
      "O elemento era: 5\n"
     ]
    }
   ],
   "source": [
    "contagem = [1, 2, 3, 4, 5]\n",
    "frutas = ['maçãs', 'laranjas', 'peras', 'damascos']\n",
    "troco = [1, 'centavos', 2, 'dimes', 3, 'quarters']\n",
    "\n",
    "for numero in contagem:\n",
    "    print(f\"Este é o número {numero}\")\n",
    "\n",
    "for fruta in frutas:\n",
    "    print(f\"Uma fruta do tipo: {fruta}\")\n",
    "\n",
    "for i in troco:\n",
    "    print(f\"Eu tenho {i}\")\n",
    "\n",
    "elementos = []\n",
    "\n",
    "for i in range(0, 6):\n",
    "    print(f\"Adicionando {i} à lista.\")\n",
    "    elementos.append(i)\n",
    "\n",
    "for i in elementos:\n",
    "    print(f\"O elemento era: {i}\")"
   ]
  },
  {
   "cell_type": "markdown",
   "id": "97e0bdcb",
   "metadata": {},
   "source": [
    "Exercícios"
   ]
  },
  {
   "cell_type": "markdown",
   "id": "b624c870",
   "metadata": {},
   "source": [
    "Exercício 1"
   ]
  },
  {
   "cell_type": "code",
   "execution_count": 11,
   "id": "861a809c",
   "metadata": {},
   "outputs": [
    {
     "name": "stdout",
     "output_type": "stream",
     "text": [
      "O volume da caixa é: 6000.0\n"
     ]
    }
   ],
   "source": [
    "comprimento = float(input(\"Digite o comprimento da caixa: \"))\n",
    "largura = float(input(\"Digite a largura da caixa: \"))\n",
    "altura = float(input(\"Digite a altura da caixa: \"))\n",
    "\n",
    "volume = comprimento * largura * altura\n",
    "print(f\"O volume da caixa é: {volume}\")"
   ]
  },
  {
   "cell_type": "markdown",
   "id": "141a373f",
   "metadata": {},
   "source": [
    "Exercício 2"
   ]
  },
  {
   "cell_type": "code",
   "execution_count": 12,
   "id": "a2e7dfbc",
   "metadata": {},
   "outputs": [
    {
     "name": "stdout",
     "output_type": "stream",
     "text": [
      "O texto contém 3 palavras.\n"
     ]
    }
   ],
   "source": [
    "texto = input(\"Digite um texto: \")\n",
    "palavras = texto.split()\n",
    "print(f\"O texto contém {len(palavras)} palavras.\")"
   ]
  },
  {
   "cell_type": "markdown",
   "id": "86881604",
   "metadata": {},
   "source": [
    "Exercício 3"
   ]
  },
  {
   "cell_type": "code",
   "execution_count": 13,
   "id": "b580aa3b",
   "metadata": {},
   "outputs": [
    {
     "name": "stdout",
     "output_type": "stream",
     "text": [
      "Texto modificado: ainda estou nova\n"
     ]
    }
   ],
   "source": [
    "texto_original = input(\"Digite um texto: \")\n",
    "palavra_busca = input(\"Digite a palavra que deseja substituir: \")\n",
    "palavra_substituir = input(\"Digite a nova palavra: \")\n",
    "\n",
    "texto_modificado = texto_original.replace(palavra_busca, palavra_substituir)\n",
    "print(\"Texto modificado:\", texto_modificado)"
   ]
  },
  {
   "cell_type": "markdown",
   "id": "e1893d17",
   "metadata": {},
   "source": [
    "Exercício 4"
   ]
  },
  {
   "cell_type": "code",
   "execution_count": 14,
   "id": "4e4507c6",
   "metadata": {},
   "outputs": [
    {
     "name": "stdout",
     "output_type": "stream",
     "text": [
      "Frases separadas:\n",
      "eu sou\n",
      "um cara\n",
      "muito\n",
      "legal\n"
     ]
    }
   ],
   "source": [
    "texto = input(\"Digite um texto com várias frases separadas por ponto: \")\n",
    "frases = texto.split('.')\n",
    "print(\"Frases separadas:\")\n",
    "for frase in frases:\n",
    "    if frase.strip():\n",
    "        print(frase.strip())"
   ]
  },
  {
   "cell_type": "markdown",
   "id": "5a9fca04",
   "metadata": {},
   "source": [
    "Exercício 5"
   ]
  },
  {
   "cell_type": "code",
   "execution_count": 15,
   "id": "a2537949",
   "metadata": {},
   "outputs": [
    {
     "name": "stdout",
     "output_type": "stream",
     "text": [
      "Números em ordem crescente: [-89, 12, 6333]\n"
     ]
    }
   ],
   "source": [
    "a = int(input(\"Digite o primeiro número: \"))\n",
    "b = int(input(\"Digite o segundo número: \"))\n",
    "c = int(input(\"Digite o terceiro número: \"))\n",
    "\n",
    "numeros = [a, b, c]\n",
    "numeros.sort()\n",
    "print(\"Números em ordem crescente:\", numeros)"
   ]
  },
  {
   "cell_type": "markdown",
   "id": "2e9ea36a",
   "metadata": {},
   "source": [
    "Exercício 6"
   ]
  },
  {
   "cell_type": "code",
   "execution_count": 16,
   "id": "5e65a007",
   "metadata": {},
   "outputs": [
    {
     "name": "stdout",
     "output_type": "stream",
     "text": [
      "Valores divisíveis por 2 e 3:\n",
      "6\n"
     ]
    }
   ],
   "source": [
    "valores = []\n",
    "for i in range(4):\n",
    "    valores.append(int(input(f\"Digite o {i+1}º valor: \")))\n",
    "\n",
    "print(\"Valores divisíveis por 2 e 3:\")\n",
    "for valor in valores:\n",
    "    if valor % 2 == 0 and valor % 3 == 0:\n",
    "        print(valor)"
   ]
  },
  {
   "cell_type": "markdown",
   "id": "e7ac5b88",
   "metadata": {},
   "source": [
    "Exercício 7"
   ]
  },
  {
   "cell_type": "code",
   "execution_count": 17,
   "id": "0273866c",
   "metadata": {},
   "outputs": [
    {
     "name": "stdout",
     "output_type": "stream",
     "text": [
      "Números divisíveis por 4 e menores que 200:\n",
      "4\n",
      "8\n",
      "12\n",
      "16\n",
      "20\n",
      "24\n",
      "28\n",
      "32\n",
      "36\n",
      "40\n",
      "44\n",
      "48\n",
      "52\n",
      "56\n",
      "60\n",
      "64\n",
      "68\n",
      "72\n",
      "76\n",
      "80\n",
      "84\n",
      "88\n",
      "92\n",
      "96\n",
      "100\n",
      "104\n",
      "108\n",
      "112\n",
      "116\n",
      "120\n",
      "124\n",
      "128\n",
      "132\n",
      "136\n",
      "140\n",
      "144\n",
      "148\n",
      "152\n",
      "156\n",
      "160\n",
      "164\n",
      "168\n",
      "172\n",
      "176\n",
      "180\n",
      "184\n",
      "188\n",
      "192\n",
      "196\n"
     ]
    }
   ],
   "source": [
    "print(\"Números divisíveis por 4 e menores que 200:\")\n",
    "for i in range(4, 200, 4):\n",
    "    print(i)"
   ]
  }
 ],
 "metadata": {
  "kernelspec": {
   "display_name": "Python 3",
   "language": "python",
   "name": "python3"
  },
  "language_info": {
   "codemirror_mode": {
    "name": "ipython",
    "version": 3
   },
   "file_extension": ".py",
   "mimetype": "text/x-python",
   "name": "python",
   "nbconvert_exporter": "python",
   "pygments_lexer": "ipython3",
   "version": "3.12.1"
  }
 },
 "nbformat": 4,
 "nbformat_minor": 5
}
