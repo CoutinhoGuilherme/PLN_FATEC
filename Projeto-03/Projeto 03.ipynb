{
  "cells": [
    {
      "cell_type": "markdown",
      "metadata": {
        "id": "r_V9DcaW_KTi"
      },
      "source": [
        "Projeto 03 - Análise de relevância de termos\n"
      ]
    },
    {
      "cell_type": "markdown",
      "metadata": {
        "id": "qqfR7UOp_M-u"
      },
      "source": [
        "Primeira etapa - Carregamento do arquivo"
      ]
    },
    {
      "cell_type": "code",
      "execution_count": null,
      "metadata": {
        "id": "7FO4mKay_Uy6"
      },
      "outputs": [],
      "source": [
        "import nltk\n",
        "from nltk.corpus import machado\n",
        "\n",
        "nltk.download('machado')\n",
        "\n",
        "import zipfile\n",
        "\n",
        "caminho_do_zip = 'root/nltk_data/corpora/machado.zip'\n",
        "pasta_destino = 'root/nltk_data/corpora/machado.zip'\n",
        "os.makedirs(pasta_destino, exist_ok=True)\n",
        "\n",
        "arquivo_zip = zipfile.ZipFile(caminho_do_zip, 'r')\n",
        "arquivo_zip.extractall(pasta_destino)\n",
        "\n",
        "print(f\"Arquivo {caminho_do_zip} extraído com sucesso na pasta {pasta_destino}\")\n",
        "\n"
      ]
    },
    {
      "cell_type": "markdown",
      "metadata": {
        "id": "zKC76a5L_VtI"
      },
      "source": []
    },
    {
      "cell_type": "markdown",
      "metadata": {
        "id": "rP-wb11-BVUC"
      },
      "source": [
        "Segunda etapa - Limpeza do arquivo"
      ]
    },
    {
      "cell_type": "code",
      "execution_count": null,
      "metadata": {
        "id": "_unO5zX4E18k"
      },
      "outputs": [],
      "source": [
        "def ler(nome_do_arquivo):\n",
        "  arquivo = open(nome_do_arquivo, 'r', encoding='ISO-8859-1')\n",
        "  conteudo_arq = arquivo.read()\n",
        "  arquivo.close()\n",
        "  return conteudo_arq"
      ]
    },
    {
      "cell_type": "code",
      "execution_count": null,
      "metadata": {
        "id": "Hdlv8Us_CAsB"
      },
      "outputs": [],
      "source": [
        "def limpar(lista):\n",
        "  lixo = '.,:;?!\"´`^~()[]{}/\\|@#$%¨&*-'\n",
        "  quase_limpo = [x.strip(lixo).lower() for x in lista]\n",
        "  return [x for x in quase_limpo if x.isalpha() or '-' not in x]"
      ]
    },
    {
      "cell_type": "code",
      "execution_count": null,
      "metadata": {
        "id": "qArXTbEcFWF6"
      },
      "outputs": [],
      "source": [
        "obras = []\n",
        "\n",
        "for i in range(1, 10):\n",
        "  obras.append('/root/ntlk_data/corpora/machado/romance/marm0'+str(i)+'.txt')\n",
        "\n",
        "colecao = []\n",
        "\n",
        "for obra in obras:\n",
        "  print(obra)\n",
        "  texto = ler(obra)\n",
        "  palavras = limpar(texto.lower().split())\n",
        "  colecao.append(palavras)"
      ]
    },
    {
      "cell_type": "markdown",
      "metadata": {
        "id": "2GiDj1pWHkYo"
      },
      "source": [
        "Terceira etapa - Criação dos códigos"
      ]
    },
    {
      "cell_type": "code",
      "execution_count": null,
      "metadata": {
        "id": "vfzVrxQWHt1x"
      },
      "outputs": [],
      "source": [
        "import math\n",
        "def tf(termo, doc):\n",
        "  return colecao[doc].count(termo)\n",
        "\n",
        "def df(termo):\n",
        "  return len([d for d in colecao if termo in d])\n",
        "\n",
        "def idf():\n",
        "  return math.log10(len(colecao)/df(termo))\n",
        "\n",
        "def tf_idf(termo, doc):\n",
        "  return tf(termo, doc) * idf(termo)"
      ]
    },
    {
      "cell_type": "markdown",
      "metadata": {
        "id": "UQtKKtbWKMH0"
      },
      "source": [
        "Ultima etapa - Experimentação dos cálculos"
      ]
    },
    {
      "cell_type": "code",
      "execution_count": null,
      "metadata": {
        "id": "VkmSaRO8KUTa"
      },
      "outputs": [],
      "source": [
        "df('que')"
      ]
    },
    {
      "cell_type": "code",
      "execution_count": null,
      "metadata": {
        "id": "4Ew_D2azKWHG"
      },
      "outputs": [],
      "source": [
        "df('luva')"
      ]
    },
    {
      "cell_type": "code",
      "execution_count": null,
      "metadata": {
        "id": "ctnwaCtTKY-A"
      },
      "outputs": [],
      "source": [
        "tf_idf('luva', 2)"
      ]
    },
    {
      "cell_type": "code",
      "execution_count": null,
      "metadata": {
        "id": "9v3awYKCKhnZ"
      },
      "outputs": [],
      "source": [
        "tf_idf('latim', 1)"
      ]
    },
    {
      "cell_type": "code",
      "execution_count": null,
      "metadata": {
        "id": "AzEWgK2TKnLr"
      },
      "outputs": [],
      "source": [
        "def relevantes(doc):\n",
        "  lista_total = [(tf_idf(p, doc), p) for p in set(colecao[doc])]\n",
        "\n",
        "  return sorted(lista_total, reverse=True)[:10]"
      ]
    },
    {
      "cell_type": "code",
      "execution_count": null,
      "metadata": {
        "id": "0wq2w0EALBsu"
      },
      "outputs": [
        {
          "ename": "NameError",
          "evalue": "name 'relevantes' is not defined",
          "output_type": "error",
          "traceback": [
            "\u001b[31m---------------------------------------------------------------------------\u001b[39m",
            "\u001b[31mNameError\u001b[39m                                 Traceback (most recent call last)",
            "\u001b[36mCell\u001b[39m\u001b[36m \u001b[39m\u001b[32mIn[1]\u001b[39m\u001b[32m, line 1\u001b[39m\n\u001b[32m----> \u001b[39m\u001b[32m1\u001b[39m mr = \u001b[43mrelevantes\u001b[49m(\u001b[32m1\u001b[39m)\n",
            "\u001b[31mNameError\u001b[39m: name 'relevantes' is not defined"
          ]
        }
      ],
      "source": [
        "mr = relevantes(1)\n",
        "\n",
        "mr"
      ]
    }
  ],
  "metadata": {
    "colab": {
      "provenance": []
    },
    "kernelspec": {
      "display_name": "Python 3",
      "name": "python3"
    },
    "language_info": {
      "codemirror_mode": {
        "name": "ipython",
        "version": 3
      },
      "file_extension": ".py",
      "mimetype": "text/x-python",
      "name": "python",
      "nbconvert_exporter": "python",
      "pygments_lexer": "ipython3",
      "version": "3.12.1"
    }
  },
  "nbformat": 4,
  "nbformat_minor": 0
}
