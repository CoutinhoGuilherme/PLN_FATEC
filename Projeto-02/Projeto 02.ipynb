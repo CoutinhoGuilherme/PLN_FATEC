{
 "cells": [
  {
   "cell_type": "markdown",
   "id": "688c5bbb",
   "metadata": {},
   "source": [
    "Projeto 02 - Análise de Estatística Descritiva"
   ]
  },
  {
   "cell_type": "code",
   "execution_count": null,
   "id": "fc76c7a8",
   "metadata": {},
   "outputs": [],
   "source": [
    "import nltk\n",
    "from nltk.corpus import machado\n",
    "\n",
    "nltk.download('machado')"
   ]
  },
  {
   "cell_type": "markdown",
   "id": "d7a891f1",
   "metadata": {},
   "source": [
    "Verificando o conteúdo do Corpus \"Machado\" e extraindo"
   ]
  },
  {
   "cell_type": "code",
   "execution_count": null,
   "id": "34336150",
   "metadata": {},
   "outputs": [],
   "source": [
    "\n",
    "import zipfile\n",
    "\n",
    "caminho_do_zip = '/root/nltk_data/corpora/machado.zip'\n",
    "\n",
    "arquivo_zip = zipfile.ZipFile(caminho_do_zip, 'r')\n",
    "\n",
    "arquivo_zip.printdir()"
   ]
  },
  {
   "cell_type": "code",
   "execution_count": null,
   "id": "9570557f",
   "metadata": {},
   "outputs": [],
   "source": [
    "\n",
    "import os\n",
    "\n",
    "pasta_destino = '/root/nltk_data/corpora'\n",
    "\n",
    "os.makedirs(pasta_destino, exist_ok=True)\n",
    "\n",
    "arquivo_zip.extractall(pasta_destino)\n",
    "print(f\"Arquivo {caminho_do_zip} extraído com sucesso na pasta {pasta_destino}.\")"
   ]
  },
  {
   "cell_type": "markdown",
   "id": "8d9322fa",
   "metadata": {},
   "source": [
    "Passo 2 - Etiquetação morfológica (POS Tagging)"
   ]
  },
  {
   "cell_type": "code",
   "execution_count": null,
   "id": "27756b42",
   "metadata": {},
   "outputs": [],
   "source": [
    "!pip install spacy\n",
    "!python -m spacy download pt_core_news_sm"
   ]
  },
  {
   "cell_type": "code",
   "execution_count": null,
   "id": "282a360d",
   "metadata": {},
   "outputs": [],
   "source": [
    "# Etiquetagem morfológica\n",
    "import spacy\n",
    "\n",
    "nlp = spacy.load(\"pt_core_news_sm\")\n",
    "\n",
    "doc = nlp(\"Vamos estudar processamento de linguagem natural!\")\n",
    "etiq = [(x.orth_, x.pos_) for x in doc]\n",
    "\n",
    "print(etiq)"
   ]
  },
  {
   "cell_type": "code",
   "execution_count": null,
   "id": "4bab2444",
   "metadata": {},
   "outputs": [],
   "source": [
    "# Funcao para leitura dos arquivos a serem utilizados\n",
    "\n",
    "def ler(nome_arquivo):\n",
    "  arquivo = open(nome_arquivo,'r', encoding='ISO-8859-1')\n",
    "  conteudo_arq = arquivo.read()\n",
    "  arquivo.close()\n",
    "  return conteudo_arq"
   ]
  },
  {
   "cell_type": "code",
   "execution_count": null,
   "id": "de1a62ce",
   "metadata": {},
   "outputs": [],
   "source": [
    "#Obtendo arquivos para análise\n",
    "obras = []\n",
    "\n",
    "for i in range(1, 6):\n",
    "  obras.append('/root/nltk_data/corpora/machado/romance/marm0' + str(i) + '.txt')\n",
    "\n",
    "for i in range(1, 6):\n",
    "  obras.append('/root/nltk_data/corpora/machado/cronica/macr0' + str(i) + '.txt')\n",
    "\n",
    "obras"
   ]
  },
  {
   "cell_type": "code",
   "execution_count": null,
   "id": "1b8c69e0",
   "metadata": {},
   "outputs": [],
   "source": [
    "import statistics as stat\n",
    "\n",
    "cont_adv = []\n",
    "\n",
    "for obra in obras:\n",
    "  print(obra)\n",
    "  s = ler(obra)\n",
    "\n",
    "  doc = nlp(s)\n",
    "  etiq = [(x.orth_, x.pos_) for x in doc]\n",
    "  adv = [(ort, pos) for (ort, pos) in etiq if pos == \"ADV\"]\n",
    "  cont_adv.append(len(adv)/len(etiq))"
   ]
  },
  {
   "cell_type": "code",
   "execution_count": null,
   "id": "e1167d96",
   "metadata": {},
   "outputs": [],
   "source": [
    "rom_m = stat.mean(cont_adv[:4])\n",
    "rom_dp = stat.stdev(cont_adv[:4])\n",
    "cron_m = stat.mean(cont_adv[5:])\n",
    "cron_dp = stat.stdev(cont_adv[5:])"
   ]
  },
  {
   "cell_type": "markdown",
   "id": "543f766f",
   "metadata": {},
   "source": [
    "Passo 3 - Geração de gráfico para demonstração de resultados"
   ]
  },
  {
   "cell_type": "code",
   "execution_count": null,
   "id": "b206cff0",
   "metadata": {},
   "outputs": [],
   "source": [
    "import matplotlib.pyplot as plt\n",
    "\n",
    "tipo_obra = [\"Romance\", \"Cronicas\"]\n",
    "\n",
    "x = [0, 1]\n",
    "y = [rom_m, cron_m]\n",
    "dp = [rom_dp, cron_dp]\n",
    "\n",
    "plt.bar(x, y, yerr = dp)\n",
    "plt.xticks(x, tipo_obra)\n",
    "plt.ylabel(\"Percentual médio de adbérbio (%)\")\n",
    "plt.title(\"Advérbios nas obras de M.de Assis\")\n",
    "\n",
    "plt.show()   "
   ]
  },
  {
   "cell_type": "markdown",
   "id": "407eb5cf",
   "metadata": {},
   "source": [
    "Passo 4 - Análise de classes gramaticais"
   ]
  },
  {
   "cell_type": "code",
   "execution_count": null,
   "id": "95f4899a",
   "metadata": {},
   "outputs": [],
   "source": [
    "# Limpeza\n",
    "lixo = ['PUNCT', 'SPACE', 'X', 'SYM', 'NUM']\n",
    "pos2 = [pos for (pal, pos) in etiq if pos not in lixo]"
   ]
  },
  {
   "cell_type": "code",
   "execution_count": null,
   "id": "2c8a4dad",
   "metadata": {},
   "outputs": [],
   "source": [
    "from collections import defaultdict\n",
    "\n",
    "cont = defaultdict(int)\n",
    "for p in pos2:\n",
    "  cont[p] += 1\n",
    "\n",
    "nomes = cont.keys()\n",
    "ocorrencias = cont.values()"
   ]
  },
  {
   "cell_type": "code",
   "execution_count": null,
   "id": "204532ad",
   "metadata": {},
   "outputs": [],
   "source": [
    "plt.pie(ocorrencias, labels=nomes, autopct=\"%1.1f%%\")\n",
    "plt.axis('equal')\n",
    "\n",
    "plt.show()"
   ]
  }
 ],
 "metadata": {
  "language_info": {
   "name": "python"
  }
 },
 "nbformat": 4,
 "nbformat_minor": 5
}
