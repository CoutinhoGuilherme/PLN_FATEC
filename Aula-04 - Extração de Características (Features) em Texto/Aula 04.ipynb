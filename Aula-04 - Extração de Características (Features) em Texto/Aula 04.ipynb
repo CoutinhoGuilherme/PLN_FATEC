{
 "cells": [
  {
   "cell_type": "markdown",
   "id": "e3717be0",
   "metadata": {},
   "source": [
    "Aula 4 - Extração de Características"
   ]
  },
  {
   "cell_type": "markdown",
   "id": "41a6aa6e",
   "metadata": {},
   "source": [
    "EX 1 - BOW"
   ]
  },
  {
   "cell_type": "code",
   "execution_count": null,
   "id": "fbe1f788",
   "metadata": {},
   "outputs": [],
   "source": [
    "from sklearn. feature_extraction.text import CountVectorizer\n",
    "\n",
    "documentos = [\n",
    "  \"gato e cachorro\",\n",
    "  \"gato brinca com cachorro\",\n",
    "  \"gato e rato\"\n",
    "]\n",
    "\n",
    "vectorizer = CountVectorizer()\n",
    "\n",
    "X = vectorizer. fit_transform(documentos)\n",
    "# fit >>> cria um vocabulário das palavras\n",
    "# transforme >>> conta a frequencia de cada palavra no corpus\n",
    "\n",
    "print(f\"Vocabulario: {vectorizer. vocabulary_}\")\n",
    "\n",
    "print(\"Matriz BoW:\")\n",
    "print (X. toarray())"
   ]
  },
  {
   "cell_type": "markdown",
   "id": "f9466578",
   "metadata": {},
   "source": [
    "EX 2 - BOW com TF-IDF"
   ]
  },
  {
   "cell_type": "code",
   "execution_count": null,
   "id": "86952dfb",
   "metadata": {},
   "outputs": [],
   "source": [
    "from sklearn.feature_extraction.text import CountVectorizer\n",
    "from sklearn.feature_extraction.text import TfidfVectorizer\n",
    "\n",
    "documentos = [\n",
    "  \"O cachorro gosta de passear no parque\",\n",
    "  \"O gato dorme no sofá o dia todo\",\n",
    "  \"Cachorros e gatos podem ser bons amigos\"\n",
    "]\n",
    "\n",
    "#BOW\n",
    "vectorizer_bow = CountVectorizer()\n",
    "x_bow = vectorizer_bow.fit_transform(documentos)\n",
    "\n",
    "print(f\"Vocabulario BoW: {vectorizer_bow. vocabulary_}\")\n",
    "print(\"Matriz BoW:\")\n",
    "print(x_bow.toarray())\n",
    "\n",
    "#BOW+TF-IDF\n",
    "vectorizer_tfidf = TfidfVectorizer()\n",
    "x_tfidf = vectorizer_tfidf.fit_transform(documentos)\n",
    "\n",
    "print(f\"\\nVocabulario TF-IDF: {vectorizer_tfidf.vocabulary_}\")\n",
    "print(\"Matriz TF-IDF\")\n",
    "print(x_tfidf.toarray())"
   ]
  },
  {
   "cell_type": "markdown",
   "id": "3cf11bac",
   "metadata": {},
   "source": [
    "EX 4 - WordEmbedding com Word2VEX"
   ]
  },
  {
   "cell_type": "code",
   "execution_count": null,
   "id": "9f8f3c6c",
   "metadata": {},
   "outputs": [],
   "source": [
    "from gensim.models import Word2Vec\n",
    "\n",
    "corpus = [\n",
    "  [\"o\",\"cachorro\",\"está\",\"dormindo\"],\n",
    "  [\"o\",\"gato\",\"está\",\"dormindo\"]\n",
    "]\n",
    "\n",
    "model = Word2Vec(sentences=corpus, vector_size=100, window=5, min_count=1,sg=1)\n",
    "# sentences = define o texto a ser transformado em vetor\n",
    "# vector_size = define a dimensão dos vetores que representarão as palavras\n",
    "# window = define a janela de contexto. considera as palavras antes e as palavras depois no alvo para aprender\n",
    "# min_count = ignora as palavras que aparecer 1 vez no corpus\n",
    "# indica o modelo utilizado\n",
    "# 1 = skip_gram;\n",
    "# 0 = CBOW\n",
    "\n",
    "vector = model.wv['cachorro']\n",
    "\n",
    "similarity = model.wv.similarity('cachorro','gato')\n",
    "\n",
    "print(\"Similaridade entre 'cachorro' e 'gato': \", similarity)"
   ]
  },
  {
   "cell_type": "code",
   "execution_count": null,
   "id": "ae7a2374",
   "metadata": {},
   "outputs": [],
   "source": [
    "!pip install gensim"
   ]
  },
  {
   "cell_type": "code",
   "execution_count": null,
   "id": "bad74c35",
   "metadata": {},
   "outputs": [],
   "source": [
    "from gensim.models import Word2Vec\n",
    "\n",
    "corpus = [\n",
    "  [\"o\", \"cachorro\", \"está\", \"latindo\", \"no\", \"quintal\"],\n",
    "  [\"o\", \"gato\", \"está\", \"miando\", \"no\", \"telhado\"],\n",
    "  [\"o\", \"pássaro\", \"está\", \"voando\", \"no\", \"céu\",'lua'],\n",
    "  [\"a\", \"bola\", \"está\", \"rolando\", \"no\", \"chão\"],\n",
    "  [\"a\", \"criança\", \"está\", \"brincando\", \"com\", \"o\", \"cachorro\"],\n",
    "  [\"o\", \"gato\", \"e\", \"o\", \"rato\", \"são\", \"inimigos\"],\n",
    "  [\"a\", \"água\", \"está\", \"quente\", \"na\", \"caneca\"],\n",
    "  [\"o\", \"sol\", \"está\", \"brilhando\", \"no\", \"céu\"],\n",
    "  [\"a\", \"lua\", \"está\", \"cheia\", \"hoje\",'no' , 'céu' ],\n",
    "  [\"a\", \"computador\", \"está\", \"ligado\", \"na\", \"mesa\"],\n",
    "  ['a','lua' ,'esta' , 'no' , 'ceu', 'lua' , 'bonita' ]\n",
    "]\n",
    "\n",
    "model = Word2Vec(sentences=corpus, vector_size=100, window=5, min_count=1, sg=1)\n",
    "\n",
    "print(f\"Similaridade entre cachorro e gato: {model.wv.similarity('cachorro', 'gato' ) }\")\n",
    "print(f\"Similaridade entre cachorro e bola: {model.wv.similarity('cachorro', 'bola' ) }\")\n",
    "print(f\"Similaridade entre céu e lua: {model.wv.similarity('ceu', 'lua' ) }\")\n",
    "print(f\"Similaridade entre computador e mesa: {model.wv.similarity('computador', 'mesa' ) }\")"
   ]
  }
 ],
 "metadata": {
  "kernelspec": {
   "display_name": "Python 3",
   "language": "python",
   "name": "python3"
  },
  "language_info": {
   "codemirror_mode": {
    "name": "ipython",
    "version": 3
   },
   "file_extension": ".py",
   "mimetype": "text/x-python",
   "name": "python",
   "nbconvert_exporter": "python",
   "pygments_lexer": "ipython3",
   "version": "3.12.1"
  }
 },
 "nbformat": 4,
 "nbformat_minor": 5
}
