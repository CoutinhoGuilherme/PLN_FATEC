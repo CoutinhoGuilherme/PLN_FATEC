{
 "cells": [
  {
   "cell_type": "markdown",
   "id": "6f63b689",
   "metadata": {},
   "source": [
    "Aula 07 - Descoberta de Conhecimento em Textos"
   ]
  },
  {
   "cell_type": "markdown",
   "id": "b1524a41",
   "metadata": {},
   "source": [
    "EXEMPLO 01 - NER com spaCy"
   ]
  },
  {
   "cell_type": "code",
   "execution_count": null,
   "id": "9708c90e",
   "metadata": {},
   "outputs": [],
   "source": [
    "!pip install spacy\n",
    "!python -m spacy download pt_core_news_sm"
   ]
  },
  {
   "cell_type": "code",
   "execution_count": null,
   "id": "23b50918",
   "metadata": {},
   "outputs": [],
   "source": [
    "import spacy\n",
    "\n",
    "nlp = spacy.load(\"pt_core_news_sm\")\n",
    "\n",
    "texto = \"Elon Musk, CEO da Tesla, visitou o Brasil em maio de 2022 para discutir investimentos de R$ 5 bilhoes.\"\n",
    "\n",
    "doc = nlp(texto)\n",
    "\n",
    "for entidade in doc.ents:\n",
    "  print(f\"{entidade.text} - {entidade.label_}\")"
   ]
  },
  {
   "cell_type": "markdown",
   "id": "1e4f1d5b",
   "metadata": {},
   "source": [
    "EXEMPLO 02 - NER com NLTK"
   ]
  },
  {
   "cell_type": "code",
   "execution_count": null,
   "id": "6f154e83",
   "metadata": {},
   "outputs": [],
   "source": [
    "import nltk\n",
    "from nltk.tokenize import word_tokenize\n",
    "from nltk.tag import pos_tag\n",
    "from nltk.chunk import ne_chunk\n",
    "\n",
    "#nltk.download('punkt_tab')\n",
    "#nltk.download('maxent_ne_chunker_tab')\n",
    "#nltk.download('words')\n",
    "#nltk.download('averaged_perceptron_tagger_eng')\n",
    "\n",
    "texto = \"Barack Obama foi presidente dos Estados Unidos e ganhou o Premio Nobel da Paz.\"\n",
    "\n",
    "# Tokenizaçao e POS tagging\n",
    "tokens = word_tokenize(texto)\n",
    "tags = pos_tag(tokens)\n",
    "\n",
    "# Identificaçao de entidades\n",
    "entidades = ne_chunk(tags)\n",
    "\n",
    "print(entidades)"
   ]
  },
  {
   "cell_type": "markdown",
   "id": "0f98d2de",
   "metadata": {},
   "source": [
    "EXEMPLO 03 - Extração de Informações com Expressões Regulares"
   ]
  },
  {
   "cell_type": "code",
   "execution_count": null,
   "id": "44041663",
   "metadata": {},
   "outputs": [],
   "source": [
    "\n",
    "import re\n",
    "\n",
    "texto = \"O pagamento deve ser feito ate 30 de junho de 2025.\"\n",
    "\n",
    "padrao = r\"\\d{1,2} de [a-zA-Z]+ de \\d{4}\"\n",
    "datas = re.findall(padrao, texto)\n",
    "\n",
    "print(datas)"
   ]
  },
  {
   "cell_type": "markdown",
   "id": "380deeeb",
   "metadata": {},
   "source": [
    "EXEMPLO 04 - Extração de informação com Regras heurísticas e Dicionários"
   ]
  },
  {
   "cell_type": "code",
   "execution_count": null,
   "id": "05814b0f",
   "metadata": {},
   "outputs": [],
   "source": [
    "\n",
    "profissoes = [\"engenheiro\", \"cientista de dados\", \"medico\", \"advogado\"]\n",
    "\n",
    "texto = \"Joao e engenheiro de software e trabalha na Tesla.\"\n",
    "\n",
    "for profissao in profissoes:\n",
    "  if profissao in texto:\n",
    "    print(f\"Profissao identificada: {profissao}\")"
   ]
  },
  {
   "cell_type": "markdown",
   "id": "0b04a3c2",
   "metadata": {},
   "source": [
    "EXEMPLO 05 - Mineração de Textos com Frequência de Palavras e N-gramas"
   ]
  },
  {
   "cell_type": "code",
   "execution_count": null,
   "id": "3d6b2ee1",
   "metadata": {},
   "outputs": [],
   "source": [
    "import nltk\n",
    "from nltk.util import ngrams\n",
    "from collections import Counter\n",
    "\n",
    "texto = \"Mineracao de textos envolve analise de palavras, palavras importantes e padroes.\"\n",
    "palavras = nltk.word_tokenize(texto.lower())\n",
    "\n",
    "frequencia = Counter(palavras)\n",
    "print(frequencia.most_common(5))\n",
    "\n",
    "bigrams = list(ngrams(palavras, 2))\n",
    "print(bigrams)"
   ]
  },
  {
   "cell_type": "markdown",
   "id": "6e052454",
   "metadata": {},
   "source": [
    "EXEMPLO 06 - Mineração de Texto"
   ]
  },
  {
   "cell_type": "code",
   "execution_count": null,
   "id": "211a542b",
   "metadata": {},
   "outputs": [],
   "source": [
    "#!pip install gensim\n",
    "!pip install --force-reinstall gensim"
   ]
  },
  {
   "cell_type": "code",
   "execution_count": null,
   "id": "411ff02d",
   "metadata": {},
   "outputs": [],
   "source": [
    "from gensim import corpora, models\n",
    "\n",
    "documentos = [[\"mineração\", \"textos\", \"dados\"],\n",
    "              [\"inteligência\", \"artificial\", \"aprendizado\"],\n",
    "              [\"dados\", \"aprendizado\", \"estatistica\"]]\n",
    "\n",
    "dicionario = corpora.Dictionary(documentos)\n",
    "corpus = [dicionario.doc2bow(texto) for texto in documentos]\n",
    "\n",
    "lda_modelo = models.LdaModel(corpus, num_topics=2, id2word=dicionario)\n",
    "print(lda_modelo.print_topics())"
   ]
  }
 ],
 "metadata": {
  "language_info": {
   "name": "python"
  }
 },
 "nbformat": 4,
 "nbformat_minor": 5
}
